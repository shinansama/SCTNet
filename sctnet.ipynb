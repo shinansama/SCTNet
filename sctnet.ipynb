{
 "cells": [
  {
   "cell_type": "code",
   "execution_count": null,
   "id": "initial_id",
   "metadata": {
    "collapsed": true,
    "jupyter": {
     "is_executing": true,
     "outputs_hidden": true
    }
   },
   "outputs": [],
   "source": [
    "import os\n",
    "import os.path as osp\n",
    "import sys\n",
    "import time\n",
    "\n",
    "current_directory = os.getcwd()\n",
    "sys.path.append(current_directory)\n",
    "\n",
    "import mmcv\n",
    "import torch\n",
    "from mmcv.cnn.utils import revert_sync_batchnorm\n",
    "from mmcv.runner import (load_checkpoint,\n",
    "                         wrap_fp16_model)\n",
    "\n",
    "from mmseg.apis import single_gpu_test\n",
    "from mmseg.datasets import build_dataloader, build_dataset\n",
    "from mmseg.models import build_segmentor\n",
    "from mmseg.utils import build_dp, get_device, setup_multi_processes"
   ]
  },
  {
   "cell_type": "code",
   "execution_count": null,
   "id": "4b83dadb0c4d91fe",
   "metadata": {},
   "outputs": [],
   "source": [
    "config_path = r\"C:\\Users\\Administrator\\sources\\SCTNet\\configs\\sctnet\\ADE20K\\sctnet-b_8x4_160k_ade.py\"\n",
    "checkpoint = r\"C:\\Users\\Administrator\\sources\\SCTNet\\configs\\sctnet\\ADE20K\\pretrain\\SCTNet-B-ADE20K.pth\"\n",
    "cfg = mmcv.Config.fromfile(config_path)\n",
    "\n",
    "# set cudnn_benchmark\n",
    "if cfg.get('cudnn_benchmark', False):\n",
    "    torch.backends.cudnn.benchmark = True\n",
    "\n",
    "cfg.gpu_ids = [0]"
   ]
  },
  {
   "cell_type": "code",
   "execution_count": null,
   "id": "f675df75e2b5bc75",
   "metadata": {},
   "outputs": [],
   "source": [
    "# mkdir work_dir\n",
    "work_dir = osp.join('./work_dirs', osp.splitext(osp.basename(config_path))[0])\n",
    "mmcv.mkdir_or_exist(osp.abspath(work_dir))\n",
    "timestamp = time.strftime('%Y%m%d_%H%M%S', time.localtime())\n",
    "json_file = osp.join(work_dir, f'eval_single_scale_{timestamp}.json')\n",
    "output_img_dir = osp.join(work_dir, f'eval_single_scale_{timestamp}')"
   ]
  },
  {
   "cell_type": "code",
   "execution_count": null,
   "id": "791a1c0c3df45c0c",
   "metadata": {},
   "outputs": [],
   "source": [
    "# build the dataloader\n",
    "# TODO: support multiple images per gpu (only minor changes are needed)\n",
    "dataset = build_dataset(cfg.data.test)\n",
    "# The default loader config\n",
    "loader_cfg = dict(\n",
    "    # cfg.gpus will be ignored if distributed\n",
    "    num_gpus=len(cfg.gpu_ids),\n",
    "    dist=False,\n",
    "    shuffle=False)\n",
    "# The overall dataloader settings\n",
    "loader_cfg.update({\n",
    "    k: v\n",
    "    for k, v in cfg.data.items() if k not in [\n",
    "        'train', 'val', 'test', 'train_dataloader', 'val_dataloader',\n",
    "        'test_dataloader'\n",
    "    ]\n",
    "})\n",
    "test_loader_cfg = {\n",
    "    **loader_cfg,\n",
    "    'samples_per_gpu': 1,\n",
    "    'shuffle': False,  # Not shuffle by default\n",
    "    **cfg.data.get('test_dataloader', {})\n",
    "}\n",
    "# build the dataloader\n",
    "data_loader = build_dataloader(dataset, **test_loader_cfg)"
   ]
  },
  {
   "cell_type": "code",
   "execution_count": null,
   "id": "2480dbe030b67a70",
   "metadata": {},
   "outputs": [],
   "source": [
    "# build the model and load checkpoint\n",
    "cfg.model.train_cfg = None\n",
    "model = build_segmentor(cfg.model, test_cfg=cfg.get('test_cfg'))\n",
    "fp16_cfg = cfg.get('fp16', None)\n",
    "if fp16_cfg is not None:\n",
    "    wrap_fp16_model(model)\n",
    "checkpoint = load_checkpoint(model, checkpoint, map_location='cpu')\n",
    "if 'CLASSES' in checkpoint.get('meta', {}):\n",
    "    model.CLASSES = checkpoint['meta']['CLASSES']\n",
    "else:\n",
    "    print('\"CLASSES\" not found in meta, use dataset.CLASSES instead')\n",
    "    model.CLASSES = dataset.CLASSES\n",
    "if 'PALETTE' in checkpoint.get('meta', {}):\n",
    "    model.PALETTE = checkpoint['meta']['PALETTE']\n",
    "else:\n",
    "    print('\"PALETTE\" not found in meta, use dataset.PALETTE instead')\n",
    "    model.PALETTE = dataset.PALETTE\n",
    "\n",
    "# clean gpu memory when starting a new evaluation.\n",
    "torch.cuda.empty_cache()\n",
    "\n",
    "cfg.device = get_device()\n",
    "\n",
    "model = revert_sync_batchnorm(model)\n",
    "model = build_dp(model, cfg.device, device_ids=cfg.gpu_ids)"
   ]
  },
  {
   "cell_type": "code",
   "execution_count": null,
   "id": "8d51de637a6e4926",
   "metadata": {},
   "outputs": [],
   "source": [
    "eval_kwargs = {}\n",
    "results = single_gpu_test(\n",
    "    model,\n",
    "    data_loader,\n",
    "    show=False,\n",
    "    out_dir=output_img_dir,\n",
    "    efficient_test=False,\n",
    "    opacity=0.5,\n",
    "    pre_eval=False,\n",
    "    format_only=False,\n",
    "    format_args=eval_kwargs)\n",
    "\n",
    "eval_kwargs.update(metric=\"mIoU\")\n",
    "metric = dataset.evaluate(results, **eval_kwargs)\n",
    "metric_dict = dict(config=config_path, metric=metric)\n",
    "mmcv.dump(metric_dict, json_file, indent=4)"
   ]
  }
 ],
 "metadata": {
  "kernelspec": {
   "display_name": "Python 3 (ipykernel)",
   "language": "python",
   "name": "python3"
  },
  "language_info": {
   "codemirror_mode": {
    "name": "ipython",
    "version": 3
   },
   "file_extension": ".py",
   "mimetype": "text/x-python",
   "name": "python",
   "nbconvert_exporter": "python",
   "pygments_lexer": "ipython3",
   "version": "3.9.1"
  }
 },
 "nbformat": 4,
 "nbformat_minor": 5
}
